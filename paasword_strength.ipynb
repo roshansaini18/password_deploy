{
 "cells": [
  {
   "cell_type": "code",
   "execution_count": 1,
   "id": "787b7379-3b96-4711-8092-20cebcd74b7b",
   "metadata": {},
   "outputs": [
    {
     "name": "stdout",
     "output_type": "stream",
     "text": [
      "password    1\n",
      "strength    0\n",
      "score       0\n",
      "dtype: int64\n",
      "Precision Score :  0.9998108436373773\n"
     ]
    },
    {
     "data": {
      "text/plain": [
       "array([2], dtype=int64)"
      ]
     },
     "execution_count": 1,
     "metadata": {},
     "output_type": "execute_result"
    }
   ],
   "source": [
    "\n",
    "\n",
    "import pandas as pd\n",
    "import numpy as np\n",
    "import seaborn as sns\n",
    "import matplotlib.pyplot as plt\n",
    "from sklearn.feature_extraction.text import CountVectorizer, TfidfVectorizer\n",
    "from sklearn.model_selection import train_test_split\n",
    "import warnings\n",
    "warnings.filterwarnings(\"ignore\")\n",
    "\n",
    "df=pd.read_csv(\"data.csv\",on_bad_lines = \"skip\")\n",
    "\n",
    "# Check for missing values\n",
    "print(df.isnull().sum())\n",
    "\n",
    "# Drop rows with missing values in 'password' or 'strength' columns\n",
    "df.dropna(subset=['password', 'strength'], inplace=True)\n",
    "df.head()\n",
    "\n",
    "X = df['password'].values\n",
    "y = df['strength'].values\n",
    "\n",
    "X\n",
    "\n",
    "def make_chars(inputs):\n",
    "    characters=[]\n",
    "    for letter in inputs:\n",
    "        characters.append(letter)\n",
    "    return characters\n",
    "\n",
    "from sklearn.model_selection import train_test_split\n",
    "X_train, X_test, y_train, y_test = train_test_split(X,y, test_size = 0.30 , random_state= 42)\n",
    "\n",
    "from sklearn.linear_model import LogisticRegression\n",
    "\n",
    "lrc=LogisticRegression(multi_class='multinomial',solver='newton-cg',n_jobs=-1)\n",
    "\n",
    "from sklearn.feature_extraction.text import CountVectorizer,TfidfVectorizer\n",
    "\n",
    "cv = CountVectorizer(tokenizer=make_chars)\n",
    "\n",
    "from sklearn.pipeline import make_pipeline\n",
    "\n",
    "pipe = make_pipeline(cv, lrc)\n",
    "pipe.fit(X_train,y_train)\n",
    "\n",
    "y_pred = pipe.predict(X_test)\n",
    "\n",
    "from sklearn.metrics import accuracy_score,precision_score\n",
    "accuracy_score(y_pred, y_test)\n",
    "\n",
    "print(\"Precision Score : \",precision_score(y_test, y_pred,\n",
    "                                           average='micro'))\n",
    "\n",
    "import pickle\n",
    "pickle.dump(pipe, open(\"Naive_model.pkl\",'wb'))\n",
    "\n",
    "pipe.predict(['shiv123@patel987'])"
   ]
  },
  {
   "cell_type": "code",
   "execution_count": null,
   "id": "e73e2d41-806b-4ae6-a36b-54cd33061cf3",
   "metadata": {},
   "outputs": [],
   "source": []
  }
 ],
 "metadata": {
  "kernelspec": {
   "display_name": "Python 3 (ipykernel)",
   "language": "python",
   "name": "python3"
  },
  "language_info": {
   "codemirror_mode": {
    "name": "ipython",
    "version": 3
   },
   "file_extension": ".py",
   "mimetype": "text/x-python",
   "name": "python",
   "nbconvert_exporter": "python",
   "pygments_lexer": "ipython3",
   "version": "3.12.0"
  }
 },
 "nbformat": 4,
 "nbformat_minor": 5
}
